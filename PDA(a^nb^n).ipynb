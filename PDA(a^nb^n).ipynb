{
 "cells": [
  {
   "cell_type": "code",
   "execution_count": 1,
   "metadata": {},
   "outputs": [
    {
     "name": "stdin",
     "output_type": "stream",
     "text": [
      "Enter a String :  aabb\n"
     ]
    },
    {
     "name": "stdout",
     "output_type": "stream",
     "text": [
      "Valid String\n"
     ]
    }
   ],
   "source": [
    "s=input(\"Enter a String : \")\n",
    "pda=[]\n",
    "c=0\n",
    "for i in s:\n",
    "    if i=='a':\n",
    "        pda.append('a')\n",
    "        c+=1\n",
    "    else:\n",
    "        pda.pop()\n",
    "        c-=1\n",
    "if c==0:\n",
    "    print(\"Valid String\")\n",
    "else:\n",
    "    print(\"Invalid String\")"
   ]
  },
  {
   "cell_type": "code",
   "execution_count": null,
   "metadata": {},
   "outputs": [],
   "source": []
  }
 ],
 "metadata": {
  "kernelspec": {
   "display_name": "Python 3",
   "language": "python",
   "name": "python3"
  },
  "language_info": {
   "codemirror_mode": {
    "name": "ipython",
    "version": 3
   },
   "file_extension": ".py",
   "mimetype": "text/x-python",
   "name": "python",
   "nbconvert_exporter": "python",
   "pygments_lexer": "ipython3",
   "version": "3.7.3"
  }
 },
 "nbformat": 4,
 "nbformat_minor": 4
}
